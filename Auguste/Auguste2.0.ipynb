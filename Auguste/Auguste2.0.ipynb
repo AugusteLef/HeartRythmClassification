{
 "cells": [
  {
   "cell_type": "code",
   "execution_count": null,
   "metadata": {},
   "outputs": [],
   "source": [
    "import sys\n",
    "!{sys.executable} -m pip install pywavelets"
   ]
  },
  {
   "cell_type": "code",
   "execution_count": null,
   "metadata": {},
   "outputs": [],
   "source": [
    "import tensorflow as tf\n",
    "from tensorflow.keras.optimizers import Adam\n",
    "from sklearn.metrics import f1_score\n",
    "import pandas as pd\n",
    "import numpy as np\n",
    "import matplotlib.pyplot as plt\n",
    "from tqdm.notebook import tqdm_notebook as tq\n",
    "from biosppy.signals import ecg\n",
    "from collections import Counter\n",
    "from biosppy.signals import tools\n",
    "import seaborn as sns\n",
    "from scipy.signal import resample"
   ]
  },
  {
   "cell_type": "code",
   "execution_count": null,
   "metadata": {},
   "outputs": [],
   "source": [
    "# Read data, we store them as a list of times series\n",
    "train_signals = []\n",
    "for x in tq(open('X_train.csv')):\n",
    "    # Header\n",
    "    if x.startswith('id'):\n",
    "        continue\n",
    "    # Remove empty string and special character string\n",
    "    raw = x.strip().split(',')[1:]\n",
    "    raw = [string for string in raw if string != \"\" and string != '\\\\n']\n",
    "    train_signals.append(list(map(int, raw)))\n",
    "    \n",
    "test_signals = []\n",
    "for x in tq(open('X_test.csv')):\n",
    "    # Header\n",
    "    if x.startswith('id'):\n",
    "        continue\n",
    "    # Remove empty string and special character string\n",
    "    raw = x.strip().split(',')[1:]\n",
    "    raw = [string for string in raw if string != \"\" and string != '\\\\n']\n",
    "    test_signals.append(list(map(int, raw)))\n",
    "    \n",
    "#Read the labels, does not save the id\n",
    "train_labels = np.array(pd.read_csv('y_train.csv')['y'])\n",
    "\n",
    "#just read the sample\n",
    "sample=pd.read_csv(\"sample.csv\")"
   ]
  },
  {
   "cell_type": "code",
   "execution_count": null,
   "metadata": {},
   "outputs": [],
   "source": [
    "#Magic numbers\n",
    "MAX_DIM =  max([len(i) for i in train_signals])\n",
    "MIN_DIM = min([len(i) for i in train_signals])\n",
    "# 1.2 from https://www.sciencedirect.com/science/article/pii/S1566253518307632\n",
    "MAX_DIM_OPTI = int(MAX_DIM * 1.2)\n",
    "print(\"Max lenght is {} and min lenght is {}. Also, the optimized max length is {}\".format(MAX_DIM, MIN_DIM, MAX_DIM_OPTI))\n",
    "SAMPLING_FREQ = 300\n",
    "print(\"Frequence of sampling {} Hz\".format(SAMPLING_FREQ))\n",
    "CLASSES = 4\n",
    "EXP_SIZE = 3\n"
   ]
  },
  {
   "cell_type": "code",
   "execution_count": null,
   "metadata": {},
   "outputs": [],
   "source": [
    "def signal_processing(sig):\n",
    "    # FILTER THE DATA\n",
    "    # how to determine the frequency\n",
    "    signal, _, _ = tools.filter_signal(sig,\n",
    "                                       ftype='FIR',\n",
    "                                       band='bandpass',\n",
    "                                       order=90,\n",
    "                                       frequency=[3,45],\n",
    "                                       sampling_rate=SAMPLING_FREQ)\n",
    "    return signal\n",
    "\n",
    "def normalization(sig_filtered):\n",
    "    return tools.normalize(sig_filtered)[0]\n",
    "\n",
    "def preprocessing():\n",
    "    \n",
    "    x_data = np.zeros((len(list(range(len(train_signals))))*(EXP_SIZE),\n",
    "                       MAX_DIM_OPTI,\n",
    "                       1))\n",
    "    x_label = []\n",
    "    idx = 0\n",
    "    \n",
    "    for i in tq(list(range(len(train_signals)))):\n",
    "        \n",
    "        def add_signal(sig,train_labels, idx):\n",
    "            signal = signal_processing(sig)\n",
    "            signal = normalization(signal)\n",
    "            diff = MAX_DIM_OPTI - signal.shape[0]\n",
    "            if diff:\n",
    "                signal = np.hstack((signal,np.zeros((diff,))))\n",
    "            x_data[idx] = signal.reshape((MAX_DIM_OPTI,1))\n",
    "            x_label.append(train_labels)\n",
    "            return\n",
    "        add_signal(train_signals[i],train_labels[i],idx)\n",
    "        idx += 1\n",
    "        \n",
    "        #strech randomly [1,1.2]\n",
    "        stretch_ratio = 1. + np.random.random()/5\n",
    "        stretch_len = int(len(train_signals[i])*stretch_ratio)\n",
    "        add_signal(resample(train_signals[i],stretch_len), train_labels[i], idx)\n",
    "        idx += 1\n",
    "        \n",
    "        #masked\n",
    "        sig = np.array(train_signals[i])\n",
    "        # what is the better size for the mask ?\n",
    "        mask_size = np.random.randint(10,450)\n",
    "        sig_size = len(train_signals[i])\n",
    "        mask_start = np.random.randint(0,sig_size-mask_size)\n",
    "        #set to 0 the part that is masked\n",
    "        sig[mask_start:mask_start+mask_size] = 0\n",
    "        add_signal(sig, train_labels[i], idx)\n",
    "        idx += 1\n",
    "        \n",
    "    return x_data, np.array(x_label)\n",
    "        "
   ]
  },
  {
   "cell_type": "code",
   "execution_count": null,
   "metadata": {},
   "outputs": [],
   "source": [
    "# based on https://www.sciencedirect.com/science/article/pii/S1566253518307632\n",
    "def model():\n",
    "    model = tf.keras.models.Sequential([\n",
    "        tf.keras.layers.Conv1D(64,3,strides=1, activation='relu'),\n",
    "        tf.keras.layers.Conv1D(64,3, activation='relu'),\n",
    "        tf.keras.layers.MaxPool1D(pool_size=3,strides=3),\n",
    "        \n",
    "        tf.keras.layers.Conv1D(128,3, activation='relu'),\n",
    "        tf.keras.layers.Conv1D(128,3, activation='relu'),\n",
    "        tf.keras.layers.MaxPool1D(pool_size=3,strides=3),\n",
    "        \n",
    "        tf.keras.layers.Conv1D(256,3, activation='relu'),\n",
    "        tf.keras.layers.Conv1D(256,3, activation='relu'),\n",
    "        tf.keras.layers.Conv1D(256,3, activation='relu'),\n",
    "        tf.keras.layers.MaxPool1D(pool_size=3,strides=3),\n",
    "        \n",
    "        tf.keras.layers.Conv1D(256,3, activation='relu'),\n",
    "        tf.keras.layers.Conv1D(256,3, activation='relu'),\n",
    "        tf.keras.layers.Conv1D(256,3, activation='relu'),\n",
    "        tf.keras.layers.MaxPool1D(pool_size=3,strides=3),\n",
    "        \n",
    "        tf.keras.layers.Conv1D(256,3, activation='relu'),\n",
    "        tf.keras.layers.Conv1D(256,3, activation='relu'),\n",
    "        tf.keras.layers.Conv1D(256,3, activation='relu'),\n",
    "        tf.keras.layers.GlobalMaxPool1D(),\n",
    "        tf.keras.layers.Dense(256,activation=\"relu\"),\n",
    "        tf.keras.layers.Dense(30,activation=\"relu\"),\n",
    "        tf.keras.layers.Dense(4,activation=\"softmax\")\n",
    "    ])\n",
    "    \n",
    "    return model"
   ]
  },
  {
   "cell_type": "code",
   "execution_count": null,
   "metadata": {},
   "outputs": [],
   "source": [
    "from tensorflow.keras.callbacks import Callback\n",
    "class TestSubmit(Callback):\n",
    "\n",
    "    def __init__(self,X_test, *args,**kwargs):\n",
    "        super().__init__(*args,**kwargs)\n",
    "        self.X_test = X_test\n",
    "\n",
    "\n",
    "    def on_train_begin(self, logs={}):\n",
    "        self.preds = {}\n",
    "  \n",
    "    def on_epoch_end(self, epoch, logs={}):\n",
    "        self.preds[epoch] = self.model.predict_classes(self.X_test)\n",
    "        return"
   ]
  },
  {
   "cell_type": "code",
   "execution_count": null,
   "metadata": {},
   "outputs": [],
   "source": [
    "############## ADJUST SETS #####################\n",
    "X_train, y_train = preprocessing()\n",
    "X_test_submit = []\n",
    "for sig in tq(test_signals):\n",
    "    signal = signal_processing(sig)\n",
    "    signal = normalization(signal)\n",
    "    diff = MAX_DIM_OPTI - signal.shape[0]\n",
    "    # eq. if diff != 0\n",
    "    if diff:\n",
    "        # concatenate zero so the size is the same for each sample\n",
    "        signal = np.hstack((signal, np.zeros((diff,))))\n",
    "    X_test_submit.append(signal.reshape((MAX_DIM_OPTI,1)))\n",
    "X_test_submit =  np.array(X_test_submit) "
   ]
  },
  {
   "cell_type": "code",
   "execution_count": null,
   "metadata": {},
   "outputs": [],
   "source": [
    "print(len(X_train))\n",
    "print(len(y_train))"
   ]
  },
  {
   "cell_type": "code",
   "execution_count": null,
   "metadata": {},
   "outputs": [],
   "source": [
    "#callbacks\n",
    "test_submit = TestSubmit(X_test_submit)\n",
    "\n",
    "#################### CREATE THE MODEL AND TRAIN IT ####################\n",
    "my_model = model()\n",
    "print('--- COMPILE ---')\n",
    "opti = tf.keras.optimizers.Adam(learning_rate=0.001),\n",
    "my_model.compile(optimizer=\"Adam\",\n",
    "             loss=tf.keras.losses.SparseCategoricalCrossentropy(),\n",
    "             metrics=[\"sparse_categorical_accuracy\"])\n",
    "print('--- FIT ---')\n",
    "# batchsize ??\n",
    "my_model.fit(X_train, y_train, batch_size=256, epochs=20)"
   ]
  },
  {
   "cell_type": "code",
   "execution_count": null,
   "metadata": {},
   "outputs": [],
   "source": [
    "################## PREDICTION #######################\n",
    "y_preds = model.preds(X_test_submit)"
   ]
  },
  {
   "cell_type": "code",
   "execution_count": null,
   "metadata": {},
   "outputs": [],
   "source": [
    "############ SUBMISSION ##################\n",
    "ids = sample.to_numpy()[:,0]\n",
    "sub = {\"id\" : ids, \"y\": y_preds}\n",
    "sub = pd.DataFrame(sub)\n",
    "print(sub.head())\n",
    "sub.to_csv(\"submission_y_test\")"
   ]
  }
 ],
 "metadata": {
  "kernelspec": {
   "display_name": "Python 3",
   "language": "python",
   "name": "python3"
  },
  "language_info": {
   "codemirror_mode": {
    "name": "ipython",
    "version": 3
   },
   "file_extension": ".py",
   "mimetype": "text/x-python",
   "name": "python",
   "nbconvert_exporter": "python",
   "pygments_lexer": "ipython3",
   "version": "3.6.9"
  }
 },
 "nbformat": 4,
 "nbformat_minor": 2
}
